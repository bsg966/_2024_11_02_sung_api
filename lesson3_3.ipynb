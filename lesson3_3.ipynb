{
 "cells": [
  {
   "cell_type": "code",
   "execution_count": 2,
   "metadata": {},
   "outputs": [
    {
     "name": "stdout",
     "output_type": "stream",
     "text": [
      "============猜數字遊戲================\n",
      "\n",
      "再小一點\n",
      "您已經猜了1次\n",
      "再大一點\n",
      "您已經猜了2次\n",
      "再小一點\n",
      "您已經猜了3次\n",
      "再大一點\n",
      "您已經猜了4次\n",
      "再小一點\n",
      "您已經猜了5次\n",
      "賓果!猜對了,答案是:31\n",
      "您猜了6次\n",
      "============猜數字遊戲================\n",
      "\n",
      "再大一點\n",
      "您已經猜了1次\n",
      "再小一點\n",
      "您已經猜了2次\n",
      "再小一點\n",
      "您已經猜了3次\n",
      "再大一點\n",
      "您已經猜了4次\n",
      "再小一點\n",
      "您已經猜了5次\n",
      "再小一點\n",
      "您已經猜了6次\n",
      "賓果!猜對了,答案是:43\n",
      "您猜了7次\n",
      "============猜數字遊戲================\n",
      "\n",
      "再大一點\n",
      "您已經猜了1次\n",
      "再大一點\n",
      "您已經猜了2次\n",
      "再大一點\n",
      "您已經猜了3次\n",
      "再大一點\n",
      "您已經猜了4次\n",
      "再大一點\n",
      "您已經猜了5次\n",
      "賓果!猜對了,答案是:100\n",
      "您猜了6次\n",
      "============猜數字遊戲================\n",
      "\n"
     ]
    },
    {
     "ename": "ValueError",
     "evalue": "invalid literal for int() with base 10: ''",
     "output_type": "error",
     "traceback": [
      "\u001b[1;31m---------------------------------------------------------------------------\u001b[0m",
      "\u001b[1;31mValueError\u001b[0m                                Traceback (most recent call last)",
      "Cell \u001b[1;32mIn[2], line 9\u001b[0m\n\u001b[0;32m      7\u001b[0m \u001b[38;5;28mprint\u001b[39m(\u001b[38;5;124m\"\u001b[39m\u001b[38;5;124m============猜數字遊戲================\u001b[39m\u001b[38;5;130;01m\\n\u001b[39;00m\u001b[38;5;124m\"\u001b[39m)\n\u001b[0;32m      8\u001b[0m \u001b[38;5;28;01mwhile\u001b[39;00m(\u001b[38;5;28;01mTrue\u001b[39;00m):\n\u001b[1;32m----> 9\u001b[0m   keyin \u001b[38;5;241m=\u001b[39m \u001b[38;5;28;43mint\u001b[39;49m\u001b[43m(\u001b[49m\u001b[38;5;28;43minput\u001b[39;49m\u001b[43m(\u001b[49m\u001b[38;5;124;43mf\u001b[39;49m\u001b[38;5;124;43m\"\u001b[39;49m\u001b[38;5;124;43m猜數字範圍\u001b[39;49m\u001b[38;5;132;43;01m{\u001b[39;49;00m\u001b[38;5;28;43mmin\u001b[39;49m\u001b[38;5;132;43;01m}\u001b[39;49;00m\u001b[38;5;124;43m~\u001b[39;49m\u001b[38;5;132;43;01m{\u001b[39;49;00m\u001b[38;5;28;43mmax\u001b[39;49m\u001b[38;5;132;43;01m}\u001b[39;49;00m\u001b[38;5;124;43m:\u001b[39;49m\u001b[38;5;124;43m\"\u001b[39;49m\u001b[43m)\u001b[49m\u001b[43m)\u001b[49m\n\u001b[0;32m     10\u001b[0m   count \u001b[38;5;241m+\u001b[39m\u001b[38;5;241m=\u001b[39m\u001b[38;5;241m1\u001b[39m\n\u001b[0;32m     11\u001b[0m   \u001b[38;5;28;01mif\u001b[39;00m keyin \u001b[38;5;241m<\u001b[39m\u001b[38;5;241m=\u001b[39m \u001b[38;5;28mmax\u001b[39m \u001b[38;5;129;01mand\u001b[39;00m keyin \u001b[38;5;241m>\u001b[39m\u001b[38;5;241m=\u001b[39m\u001b[38;5;28mmin\u001b[39m:\n",
      "\u001b[1;31mValueError\u001b[0m: invalid literal for int() with base 10: ''"
     ]
    }
   ],
   "source": [
    "import random\n",
    "while(True):\n",
    "  min = 1\n",
    "  max = 100\n",
    "  target = random.randint(min, max)\n",
    "  count = 0\n",
    "  print(\"============猜數字遊戲================\\n\")\n",
    "  while(True):\n",
    "    keyin = int(input(f\"猜數字範圍{min}~{max}:\"))\n",
    "    count +=1\n",
    "    if keyin <= max and keyin >=min:\n",
    "        if target == keyin:\n",
    "            print(f\"賓果!猜對了,答案是:{target}\")\n",
    "            print(f\"您猜了{count}次\")\n",
    "            break\n",
    "        elif keyin >target:\n",
    "            print(\"再小一點\")\n",
    "            max = keyin-1\n",
    "            print(f'您已經猜了{count}次')\n",
    "            continue\n",
    "        elif keyin < target:\n",
    "            print(\"再大一點\")\n",
    "            min = keyin+1\n",
    "            print(f'您已經猜了{count}次')\n",
    "            \n",
    "    else:\n",
    "        print(\"輸入範圍有錯誤!\")\n",
    "    answering = input(\"請問還要繼續嗎?(y,n)\")\n",
    "    if answering =='n':\n",
    "       break\n",
    "        \n",
    "print(\"應用程式結束\")"
   ]
  }
 ],
 "metadata": {
  "kernelspec": {
   "display_name": "base",
   "language": "python",
   "name": "python3"
  },
  "language_info": {
   "codemirror_mode": {
    "name": "ipython",
    "version": 3
   },
   "file_extension": ".py",
   "mimetype": "text/x-python",
   "name": "python",
   "nbconvert_exporter": "python",
   "pygments_lexer": "ipython3",
   "version": "3.12.3"
  }
 },
 "nbformat": 4,
 "nbformat_minor": 2
}
