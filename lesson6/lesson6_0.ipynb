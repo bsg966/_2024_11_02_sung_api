{
 "cells": [
  {
   "cell_type": "code",
   "execution_count": null,
   "metadata": {},
   "outputs": [],
   "source": [
    "import random\n",
    "\n",
    "def main():\n",
    "    set1 = set()\n",
    "\n",
    "    while len(set1)<7:\n",
    "        myrandNum=random.randint(1,49)\n",
    "        set1.add(myrandNum)\n",
    "        if len (set1) ==7:\n",
    "            SpecialNum= myrandNum\n",
    "            set1.remove(SpecialNum)\n",
    "            mysetlist = sort(set1)\n",
    "    \n",
    "    mysetlist.append(SpecialNum)\n",
    "\n",
    "    print(\"本期大樂透電腦選號號碼如下:\")\n",
    "    for num in mysetlist:\n",
    "            print(num,end=\"\")\n",
    "\n",
    "    print()\n",
    "    print(f\"特別號:{SpecialNum}\")\n",
    "\n",
    "\n",
    "if __name__== '__main__'\n",
    "    main()"
   ]
  },
  {
   "cell_type": "code",
   "execution_count": null,
   "metadata": {},
   "outputs": [],
   "source": []
  }
 ],
 "metadata": {
  "kernelspec": {
   "display_name": "base",
   "language": "python",
   "name": "python3"
  },
  "language_info": {
   "name": "python",
   "version": "3.12.4"
  }
 },
 "nbformat": 4,
 "nbformat_minor": 2
}
