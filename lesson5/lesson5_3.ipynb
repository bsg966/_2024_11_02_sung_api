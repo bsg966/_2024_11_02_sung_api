{
 "cells": [
  {
   "cell_type": "code",
   "execution_count": 3,
   "metadata": {},
   "outputs": [
    {
     "name": "stdout",
     "output_type": "stream",
     "text": [
      "Apple\n",
      "20\n",
      "=============\n",
      "Banana\n",
      "30\n",
      "=============\n",
      "Cherry\n",
      "30\n",
      "=============\n"
     ]
    }
   ],
   "source": [
    "class Item:\n",
    "    def __init__(self, name:str, price:int):\n",
    "       self.name = name\n",
    "       self.price = price\n",
    "\n",
    "item = [\n",
    "       Item(\"Apple\",20),\n",
    "       Item(\"Banana\",30),\n",
    "       Item(\"Cherry\",30)]\n",
    "\n",
    "def abc(x:Item)->int:\n",
    "    return x.price\n",
    "\n",
    "newItem = sorted(item,key=abc)\n",
    "for item in newItem:\n",
    "    print(item.name)\n",
    "    print(item.price)\n",
    "    print(\"=============\")\n"
   ]
  },
  {
   "cell_type": "code",
   "execution_count": 9,
   "metadata": {},
   "outputs": [
    {
     "name": "stdout",
     "output_type": "stream",
     "text": [
      "Banana\n",
      "30\n",
      "=============\n",
      "Cherry\n",
      "30\n",
      "=============\n",
      "Apple\n",
      "20\n",
      "=============\n"
     ]
    }
   ],
   "source": [
    "class Item:\n",
    "    def __init__(self, name:str, price:int):\n",
    "       self.name = name\n",
    "       self.price = price\n",
    "\n",
    "item:list[Item]= [\n",
    "       Item(\"Apple\",20),\n",
    "       Item(\"Banana\",30),\n",
    "       Item(\"Cherry\",30)]\n",
    "\n",
    "#def abc(x:Item)->int:\n",
    "#    return x.price\n",
    "\n",
    "newItem = sorted(item,key=lambda x:x.price,reverse=True)\n",
    "for item in newItem:\n",
    "    print(item.name)\n",
    "    print(item.price)\n",
    "    print(\"=============\")"
   ]
  },
  {
   "cell_type": "code",
   "execution_count": 7,
   "metadata": {},
   "outputs": [],
   "source": [
    "items:list[dict] = [\n",
    "    {\"name\":\"Apple\",\"price\":20},\n",
    "    {\"name\":\"Banana\",\"price\":10},\n",
    "    {\"name\":\"Cherry\",\"price\":30},\n",
    "\n",
    "]"
   ]
  },
  {
   "cell_type": "code",
   "execution_count": 8,
   "metadata": {},
   "outputs": [
    {
     "data": {
      "text/plain": [
       "('Apple', 20)"
      ]
     },
     "execution_count": 8,
     "metadata": {},
     "output_type": "execute_result"
    }
   ],
   "source": [
    "item: dict= {\"name\":\"Apple\",\n",
    "             \"price\":20}\n",
    "\n",
    "item['name'], item['price']"
   ]
  }
 ],
 "metadata": {
  "kernelspec": {
   "display_name": "base",
   "language": "python",
   "name": "python3"
  },
  "language_info": {
   "codemirror_mode": {
    "name": "ipython",
    "version": 3
   },
   "file_extension": ".py",
   "mimetype": "text/x-python",
   "name": "python",
   "nbconvert_exporter": "python",
   "pygments_lexer": "ipython3",
   "version": "3.12.2"
  }
 },
 "nbformat": 4,
 "nbformat_minor": 2
}
