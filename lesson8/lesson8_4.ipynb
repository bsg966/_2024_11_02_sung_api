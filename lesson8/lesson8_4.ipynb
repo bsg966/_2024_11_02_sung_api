{
 "cells": [
  {
   "cell_type": "code",
   "execution_count": 16,
   "metadata": {},
   "outputs": [
    {
     "ename": "ImportError",
     "evalue": "cannot import name 'fetch_youbike_data' from 'tools' (/workspaces/_2024_11_02_sung_api/lesson8/tools/__init__.py)",
     "output_type": "error",
     "traceback": [
      "\u001b[0;31m---------------------------------------------------------------------------\u001b[0m",
      "\u001b[0;31mImportError\u001b[0m                               Traceback (most recent call last)",
      "Cell \u001b[0;32mIn[16], line 1\u001b[0m\n\u001b[0;32m----> 1\u001b[0m \u001b[38;5;28;01mfrom\u001b[39;00m \u001b[38;5;21;01mtools\u001b[39;00m \u001b[38;5;28;01mimport\u001b[39;00m fetch_youbike_data\n\u001b[1;32m      2\u001b[0m \u001b[38;5;28;01mimport\u001b[39;00m \u001b[38;5;21;01mstreamlit\u001b[39;00m \u001b[38;5;28;01mas\u001b[39;00m \u001b[38;5;21;01mst\u001b[39;00m\n\u001b[1;32m      4\u001b[0m youbike_data:\u001b[38;5;28mlist\u001b[39m[\u001b[38;5;28mdict\u001b[39m] \u001b[38;5;241m=\u001b[39m fetch_youbike_data()\n",
      "\u001b[0;31mImportError\u001b[0m: cannot import name 'fetch_youbike_data' from 'tools' (/workspaces/_2024_11_02_sung_api/lesson8/tools/__init__.py)"
     ]
    }
   ],
   "source": [
    "from tools import fetch_youbike_data\n",
    "import streamlit as st\n",
    "\n",
    "youbike_data:list[dict] = fetch_youbike_data()\n",
    "\n",
    "# 使用streamlit分2個欄位\n",
    "# 使用you_bike_data:list的資料, 取出所有的行政區域(sarea), 不可以重複\n",
    "# 左邊是選擇行政區域(sarea), 使用下拉式表單\n",
    "# 右邊是顯示該行政區域的YouBike站點資訊的表格資料\n",
    "# 最下方是顯示該行政區域的YouBike站點資訊的地圖\n",
    "sarea_list = sorted(set(map(lambda item:item['sarea'],youbike_data)))\n",
    "col1,col2 = st.columns(2)\n",
    "with col1:\n",
    "    selected_sarea = st.selectbox(\"行政區域\",sarea_list)\n",
    "\n",
    "with col2:\n",
    "    filter_data = filter(lambda item:item['sarea'] == selected_sarea,youbike_data)\n",
    "    st.dataframe(filter_data)\n",
    "\n",
    "#顯示地圖\n",
    "filter_data = list(filter(lambda item:item['sarea'] == selected_sarea,youbike_data))\n",
    "locations = [{'lat': float(item['lat']), 'lon': float(item['lng'])} for item in filter_data]\n",
    "st.map(locations)\n"
   ]
  }
 ],
 "metadata": {
  "kernelspec": {
   "display_name": "base",
   "language": "python",
   "name": "python3"
  },
  "language_info": {
   "codemirror_mode": {
    "name": "ipython",
    "version": 3
   },
   "file_extension": ".py",
   "mimetype": "text/x-python",
   "name": "python",
   "nbconvert_exporter": "python",
   "pygments_lexer": "ipython3",
   "version": "3.12.2"
  }
 },
 "nbformat": 4,
 "nbformat_minor": 2
}
